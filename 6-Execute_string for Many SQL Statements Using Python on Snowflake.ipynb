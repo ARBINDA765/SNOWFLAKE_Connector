{
 "cells": [
  {
   "cell_type": "code",
   "execution_count": 7,
   "id": "f8e5ec7d",
   "metadata": {},
   "outputs": [
    {
     "name": "stdout",
     "output_type": "stream",
     "text": [
      "Opening the Snowflake DB..\n",
      "Selecting the statement\n",
      "Here is the data\n",
      "('Mark', 10)\n",
      "('Luke', 20)\n",
      "('Mark', 10)\n",
      "('Luke', 20)\n",
      "('Mark', 10)\n",
      "('Luke', 20)\n",
      "('Mark', 10)\n",
      "('Luke', 20)\n",
      "('Mark', 10)\n",
      "('Luke', 20)\n",
      "('Mark', 10)\n",
      "('Luke', 20)\n",
      "('Mark', 10)\n",
      "('Luke', 20)\n",
      "('Mark', 10)\n",
      "('Luke', 20)\n",
      "('Mark', 10)\n",
      "('Luke', 20)\n",
      "('Mark', 10)\n",
      "('Luke', 20)\n",
      "('Mark', 10)\n",
      "('Luke', 20)\n",
      "(1, 'This is my 1st comment')\n",
      "(2, 'This is my 2nd comment')\n",
      "(3, 'This is my 3rd comment')\n",
      "(51, 'This is my 51st comment')\n",
      "(51, 'This is my 51st comment')\n",
      "(52, 'This is my 52st comment')\n",
      "(53, 'This is my 53st comment')\n",
      "(54, 'This is my 54st comment')\n",
      "(55, 'This is my 55st comment')\n",
      "(51, 'This is my 51st comment')\n",
      "(52, 'This is my 52st comment')\n",
      "(53, 'This is my 53st comment')\n",
      "(54, 'This is my 54st comment')\n",
      "(55, 'This is my 55st comment')\n",
      "(51, 'This is my 51st comment')\n",
      "(52, 'This is my 52st comment')\n",
      "(53, 'This is my 53st comment')\n",
      "(54, 'This is my 54st comment')\n",
      "(55, 'This is my 55st comment')\n",
      "Connection is closing\n"
     ]
    }
   ],
   "source": [
    "import snowflake.connector\n",
    "from codecs import open\n",
    "import pandas as pd\n",
    "\n",
    "\n",
    "print(\"Opening the Snowflake DB..\")\n",
    "\n",
    "cnn=snowflake.connector.connect(\n",
    "    user='ARMOHAPA7512',\n",
    "    password='Arab!1991',\n",
    "    account='jr72122.ap-south-1',\n",
    "    warehouse='PROJECT_WAREHOUSE',\n",
    "    database='PROJEC_DATABASE',\n",
    "    schema='PROJECT_SCHEMA'\n",
    ")\n",
    "print(\"Selecting the statement\")\n",
    "\n",
    "cs_list=cnn.execute_string(\n",
    "    \"SELECT * FROM CUSTOMERS;\"\n",
    "    \"SELECT * FROM PROJECT_COMMENTS;\")\n",
    "                           \n",
    "print(\"Here is the data\")\n",
    "\n",
    "for cs in cs_list:\n",
    "    for row in cs:\n",
    "        print(row)\n",
    "        \n",
    "print(\"Connection is closing\")\n",
    "cnn.close()\n",
    "\n",
    "    \n",
    "                           \n",
    "                           \n",
    "         "
   ]
  },
  {
   "cell_type": "code",
   "execution_count": null,
   "id": "1c577c79",
   "metadata": {},
   "outputs": [],
   "source": []
  }
 ],
 "metadata": {
  "kernelspec": {
   "display_name": "Python 3 (ipykernel)",
   "language": "python",
   "name": "python3"
  },
  "language_info": {
   "codemirror_mode": {
    "name": "ipython",
    "version": 3
   },
   "file_extension": ".py",
   "mimetype": "text/x-python",
   "name": "python",
   "nbconvert_exporter": "python",
   "pygments_lexer": "ipython3",
   "version": "3.9.10"
  }
 },
 "nbformat": 4,
 "nbformat_minor": 5
}
