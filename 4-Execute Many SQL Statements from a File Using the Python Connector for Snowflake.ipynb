{
 "cells": [
  {
   "cell_type": "code",
   "execution_count": 13,
   "id": "3ec03f46",
   "metadata": {},
   "outputs": [
    {
     "name": "stdout",
     "output_type": "stream",
     "text": [
      "Opening the Snowflake..\n",
      "(1,)\n",
      "(1,)\n",
      "(1,)\n",
      "(1,)\n",
      "(1,)\n",
      "Work is done\n"
     ]
    }
   ],
   "source": [
    "import snowflake.connector\n",
    "from codecs import open\n",
    "\n",
    "\n",
    "print(\"Opening the Snowflake..\")\n",
    "\n",
    "cnn=snowflake.connector.connect(\n",
    "    user='ARMOHAPA7512',\n",
    "    password='Arab!1991',\n",
    "    account='jr72122.ap-south-1',\n",
    "    warehouse='PROJECT_WAREHOUSE',\n",
    "    database='PROJEC_DATABASE',\n",
    "    schema='PROJECT_SCHEMA'\n",
    ")\n",
    "#Implementation of the connection object for the Snowflake Database.\n",
    "# Executes a stream of SQL statements. This is a non-standard convenient method.\n",
    "Sql_File='C:/Ek Sapana/LIVE YOUR LIVE YOUR LIFE/GITHUB_STEP3/SNOWFLAKE CONNECTOR/TEST_sql.sql'\n",
    "with open (Sql_File,'r',encoding='utf-8') as f:\n",
    "    for cs in cnn.execute_stream(f):\n",
    "        for rt in cs:\n",
    "            print(rt)\n",
    "#cnn.close()\n",
    "print(\"Work is done\")\n",
    "\n",
    "    "
   ]
  },
  {
   "cell_type": "code",
   "execution_count": null,
   "id": "e17f5ee3",
   "metadata": {},
   "outputs": [],
   "source": []
  }
 ],
 "metadata": {
  "kernelspec": {
   "display_name": "Python 3 (ipykernel)",
   "language": "python",
   "name": "python3"
  },
  "language_info": {
   "codemirror_mode": {
    "name": "ipython",
    "version": 3
   },
   "file_extension": ".py",
   "mimetype": "text/x-python",
   "name": "python",
   "nbconvert_exporter": "python",
   "pygments_lexer": "ipython3",
   "version": "3.9.10"
  }
 },
 "nbformat": 4,
 "nbformat_minor": 5
}
