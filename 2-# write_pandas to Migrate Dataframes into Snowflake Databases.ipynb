{
 "cells": [
  {
   "cell_type": "code",
   "execution_count": 1,
   "id": "8713c1b0",
   "metadata": {},
   "outputs": [
    {
     "name": "stdout",
     "output_type": "stream",
     "text": [
      "Requirement already satisfied: pyarrow==6.0.0 in c:\\users\\arabi\\appdata\\local\\packages\\pythonsoftwarefoundation.python.3.9_qbz5n2kfra8p0\\localcache\\local-packages\\python39\\site-packages (6.0.0)\n",
      "Requirement already satisfied: numpy>=1.16.6 in c:\\users\\arabi\\appdata\\local\\packages\\pythonsoftwarefoundation.python.3.9_qbz5n2kfra8p0\\localcache\\local-packages\\python39\\site-packages (from pyarrow==6.0.0) (1.21.5)\n",
      "Opening the snowflake connection\n",
      "Creating the dataframe\n",
      "Writing the data from the dataframe to Snowflake\n",
      "Operation isTrue,No of times data inserted is 1  and total no of rows got inserted is 2\n",
      "Its done--All the records got loaded into the table \n"
     ]
    }
   ],
   "source": [
    "\n",
    "#!pip install pyarrow\n",
    "\n",
    "#!pip install fastparquet\n",
    "!pip install pyarrow==6.0.0\n",
    "\n",
    "import snowflake.connector\n",
    "\n",
    "import pandas as pd\n",
    "from snowflake.connector.pandas_tools import write_pandas\n",
    "\n",
    "# Create the connection to the Snowflake database.\n",
    "print(\"Opening the snowflake connection\")\n",
    "ctx = snowflake.connector.connect(\n",
    "    user='ARMOHAPA7512',\n",
    "    password='Arab!1991',\n",
    "    account='jr72122.ap-south-1',\n",
    "    warehouse='PROJECT_WAREHOUSE',\n",
    "    database='PROJEC_DATABASE',\n",
    "    schema='PROJECT_SCHEMA'\n",
    "    \n",
    "    )\n",
    "print(\"Creating the dataframe\")\n",
    "# Create a DataFrame containing data about customers\n",
    "df = pd.DataFrame([('Mark', 10), ('Luke', 20)], columns=['NAME', 'BALANCE'])\n",
    "\n",
    "print(\"Writing the data from the dataframe to Snowflake\")\n",
    "\n",
    "# Write the data from the DataFrame to the table named \"customers\".\n",
    "success, nchunks, nrows, _ = write_pandas(ctx, df, \"CUSTOMERS\")\n",
    "print(\"Operation is\" + str(success)+','+ \"No of times data inserted is \"+str(nchunks)+'  and total no of rows got inserted is '+str(nrows))\n",
    "\n",
    "print(\"Its done--All the records got loaded into the table \")\n"
   ]
  },
  {
   "cell_type": "code",
   "execution_count": null,
   "id": "13727047",
   "metadata": {},
   "outputs": [],
   "source": []
  }
 ],
 "metadata": {
  "kernelspec": {
   "display_name": "Python 3 (ipykernel)",
   "language": "python",
   "name": "python3"
  },
  "language_info": {
   "codemirror_mode": {
    "name": "ipython",
    "version": 3
   },
   "file_extension": ".py",
   "mimetype": "text/x-python",
   "name": "python",
   "nbconvert_exporter": "python",
   "pygments_lexer": "ipython3",
   "version": "3.9.10"
  }
 },
 "nbformat": 4,
 "nbformat_minor": 5
}
