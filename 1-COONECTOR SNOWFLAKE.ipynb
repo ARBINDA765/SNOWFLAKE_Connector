{
 "cells": [
  {
   "cell_type": "markdown",
   "id": "39f5b34d",
   "metadata": {},
   "source": [
    "# Create and Populate a Database and Retrieve Data"
   ]
  },
  {
   "cell_type": "code",
   "execution_count": 3,
   "id": "711a44cb",
   "metadata": {},
   "outputs": [
    {
     "name": "stdout",
     "output_type": "stream",
     "text": [
      "Requirement already satisfied: pyarrow==6.0.0 in c:\\users\\arabi\\appdata\\local\\packages\\pythonsoftwarefoundation.python.3.9_qbz5n2kfra8p0\\localcache\\local-packages\\python39\\site-packages (6.0.0)\n",
      "Requirement already satisfied: numpy>=1.16.6 in c:\\users\\arabi\\appdata\\local\\packages\\pythonsoftwarefoundation.python.3.9_qbz5n2kfra8p0\\localcache\\local-packages\\python39\\site-packages (from pyarrow==6.0.0) (1.21.5)\n",
      "6.3.2\n",
      "Creating DW..\n",
      " DW Creation complete..\n",
      "Creating DB..\n",
      "Using DB..\n",
      "Creating Schema..\n",
      "Using the schema\n",
      "Table got created\n",
      "Fetching some rows\n",
      "(1, 'This is my 1st comment')\n",
      "(2, 'This is my 2nd comment')\n",
      "(3, 'This is my 3rd comment')\n",
      "Complete the fetching alll the recoreds\n"
     ]
    }
   ],
   "source": [
    "#Snowimport snowflake.connector\n",
    "import snowflake.connector\n",
    "\n",
    "!pip install pyarrow==6.0.0\n",
    "\n",
    "# Gets the version\n",
    "ctx = snowflake.connector.connect(\n",
    "    user='ARMOHAPA7512',\n",
    "    password='Arab!1991',\n",
    "    account='jr72122.ap-south-1'\n",
    "    )\n",
    "cs = ctx.cursor()\n",
    "try:\n",
    "    cs.execute(\"SELECT current_version()\")\n",
    "    one_row = cs.fetchone()\n",
    "    print(one_row[0])\n",
    "    \n",
    "    print(\"Creating DW..\")\n",
    "    sql=\"CREATE WAREHOUSE IF NOT EXISTS project_warehouse\"\n",
    "    cs.execute(sql)\n",
    "    print(\" DW Creation complete..\")\n",
    "    \n",
    "    sql=\"CREATE DATABASE IF NOT EXISTS projec_database\"\n",
    "    cs.execute(sql)\n",
    "    print(\"Creating DB..\")\n",
    "    \n",
    "    sql=\"USE DATABASE projec_database\"\n",
    "    cs.execute(sql)\n",
    "    print(\"Using DB..\")\n",
    "    \n",
    "    sql=\"CREATE SCHEMA IF NOT EXISTS project_schema\"\n",
    "    cs.execute(sql)\n",
    "    print(\"Creating Schema..\")\n",
    "    \n",
    "    sql=\"USE SCHEMA project_schema\"\n",
    "    cs.execute(sql)\n",
    "    print(\"Using the schema\")\n",
    "    sql=(\"CREATE OR REPLACE TABLE project_comments\"\n",
    "         \"(ID integer,COMMENTS string)\")\n",
    "    cs.execute(sql)\n",
    "    print(\"Table got created\")\n",
    "    sql=(\"INSERT INTO project_comments(ID,COMMENTS)\"\n",
    "         \"values(1,'This is my 1st comment')\")\n",
    "    cs.execute(sql)\n",
    "    sql=(\"INSERT INTO project_comments(ID,COMMENTS)\"\n",
    "         \"values(2,'This is my 2nd comment')\")\n",
    "    cs.execute(sql)\n",
    "    sql=(\"INSERT INTO project_comments(ID,COMMENTS)\"\n",
    "         \"values(3,'This is my 3rd comment')\")\n",
    "    cs.execute(sql)\n",
    "    \n",
    "    print(\"Fetching some rows\")\n",
    "    sql=\"select * from project_comments\"\n",
    "    cs.execute(sql)\n",
    "    \n",
    "    for row in cs.fetchall():\n",
    "        print(row)\n",
    "    print(\"Complete the fetching alll the recoreds\")\n",
    "    \n",
    "    \n",
    "            \n",
    "finally:\n",
    "    cs.close()\n",
    "ctx.close()"
   ]
  },
  {
   "cell_type": "markdown",
   "id": "6ca20d30",
   "metadata": {},
   "source": [
    "# write_pandas to Migrate Dataframes into Snowflake Databases"
   ]
  },
  {
   "cell_type": "code",
   "execution_count": 4,
   "id": "d56527e8",
   "metadata": {},
   "outputs": [
    {
     "name": "stdout",
     "output_type": "stream",
     "text": [
      "Requirement already satisfied: pyarrow==6.0.0 in c:\\users\\arabi\\appdata\\local\\packages\\pythonsoftwarefoundation.python.3.9_qbz5n2kfra8p0\\localcache\\local-packages\\python39\\site-packages (6.0.0)\n",
      "Requirement already satisfied: numpy>=1.16.6 in c:\\users\\arabi\\appdata\\local\\packages\\pythonsoftwarefoundation.python.3.9_qbz5n2kfra8p0\\localcache\\local-packages\\python39\\site-packages (from pyarrow==6.0.0) (1.21.5)\n",
      "Opening the snowflake connection\n",
      "Creating the dataframe\n",
      "Writing the data from the dataframe to Snowflake\n",
      "Operation isTrue,No of times data inserted is 1  and total no of rows got inserted is 2\n",
      "Its done--All the records got loaded into the table \n"
     ]
    }
   ],
   "source": [
    "\n",
    "#!pip install pyarrow\n",
    "\n",
    "#!pip install fastparquet\n",
    "!pip install pyarrow==6.0.0\n",
    "\n",
    "import snowflake.connector\n",
    "\n",
    "import pandas as pd\n",
    "from snowflake.connector.pandas_tools import write_pandas\n",
    "\n",
    "# Create the connection to the Snowflake database.\n",
    "print(\"Opening the snowflake connection\")\n",
    "ctx = snowflake.connector.connect(\n",
    "    user='ARMOHAPA7512',\n",
    "    password='Arab!1991',\n",
    "    account='jr72122.ap-south-1',\n",
    "    warehouse='PROJECT_WAREHOUSE',\n",
    "    database='PROJEC_DATABASE',\n",
    "    schema='PROJECT_SCHEMA'\n",
    "    \n",
    "    )\n",
    "print(\"Creating the dataframe\")\n",
    "# Create a DataFrame containing data about customers\n",
    "df = pd.DataFrame([('Mark', 10), ('Luke', 20)], columns=['NAME', 'BALANCE'])\n",
    "\n",
    "print(\"Writing the data from the dataframe to Snowflake\")\n",
    "\n",
    "# Write the data from the DataFrame to the table named \"customers\".\n",
    "success, nchunks, nrows, _ = write_pandas(ctx, df, \"CUSTOMERS\")\n",
    "print(\"Operation is\" + str(success)+','+ \"No of times data inserted is \"+str(nchunks)+'  and total no of rows got inserted is '+str(nrows))\n",
    "\n",
    "print(\"Its done--All the records got loaded into the table \")\n"
   ]
  },
  {
   "cell_type": "code",
   "execution_count": null,
   "id": "6428cc18",
   "metadata": {},
   "outputs": [],
   "source": []
  }
 ],
 "metadata": {
  "kernelspec": {
   "display_name": "Python 3 (ipykernel)",
   "language": "python",
   "name": "python3"
  },
  "language_info": {
   "codemirror_mode": {
    "name": "ipython",
    "version": 3
   },
   "file_extension": ".py",
   "mimetype": "text/x-python",
   "name": "python",
   "nbconvert_exporter": "python",
   "pygments_lexer": "ipython3",
   "version": "3.9.10"
  }
 },
 "nbformat": 4,
 "nbformat_minor": 5
}
