{
 "cells": [
  {
   "cell_type": "code",
   "execution_count": 7,
   "id": "8827a239",
   "metadata": {},
   "outputs": [
    {
     "name": "stdout",
     "output_type": "stream",
     "text": [
      "Snowflake connection is opening..\n",
      "1st table got read\n",
      "2ND table got read \n",
      "Closing the cursor\n",
      "closing the connection\n",
      "Printing the resulting after join in SQL\n",
      "   NAME  BALANCE NAME_TEST  BALANCE_TEST\n",
      "0  Mark       10      Mark            10\n",
      "1  Mark       10      Mark            10\n",
      "2  Mark       10      Mark            10\n",
      "3  Mark       10      Mark            10\n",
      "4  Mark       10      Mark            10\n",
      "5  Mark       10      Mark            10\n",
      "6  Mark       10      Mark            10\n",
      "7  Mark       10      Mark            10\n",
      "8  Mark       10      Mark            10\n",
      "9  Mark       10      Mark            10\n",
      "Operation is done \n"
     ]
    }
   ],
   "source": [
    "import snowflake.connector\n",
    "import pandas as pd\n",
    "print(\"Snowflake connection is opening..\")\n",
    "cnn=snowflake.connector.connect(\n",
    "    user='ARMOHAPA7512',\n",
    "    password='Arab!1991',\n",
    "    account='jr72122.ap-south-1',\n",
    "    warehouse='PROJECT_WAREHOUSE',\n",
    "    database='PROJEC_DATABASE',\n",
    "    schema='PROJECT_SCHEMA'\n",
    ")\n",
    "cs=cnn.cursor()\n",
    "sql='select * from CUSTOMERS;'\n",
    "cs.execute(sql)\n",
    "cs.fetch_pandas_all()\n",
    "print(\"1st table got read\")\n",
    "\n",
    "sql=\"select * from CUSTOMERS_TEST;\"\n",
    "cs.execute(sql)\n",
    "cs.fetch_pandas_all()\n",
    "print(\"2ND table got read \")\n",
    "\n",
    "sql=\"select * from CUSTOMERS C left join CUSTOMERS_TEST C_T WHERE C.NAME=C_T.NAME_TEST;\"\n",
    "cs.execute(sql)\n",
    "\n",
    "df_result=cs.fetch_pandas_all()\n",
    "cs.close()\n",
    "print(\"Closing the cursor\")\n",
    "cnn.close()\n",
    "print(\"closing the connection\")\n",
    "print(\"Printing the resulting after join in SQL\")\n",
    "print(df_result.head(10))\n",
    "\n",
    "\n",
    "print(\"Operation is done \")\n",
    "\n",
    "\n"
   ]
  },
  {
   "cell_type": "code",
   "execution_count": null,
   "id": "99e6eaa9",
   "metadata": {},
   "outputs": [],
   "source": []
  }
 ],
 "metadata": {
  "kernelspec": {
   "display_name": "Python 3 (ipykernel)",
   "language": "python",
   "name": "python3"
  },
  "language_info": {
   "codemirror_mode": {
    "name": "ipython",
    "version": 3
   },
   "file_extension": ".py",
   "mimetype": "text/x-python",
   "name": "python",
   "nbconvert_exporter": "python",
   "pygments_lexer": "ipython3",
   "version": "3.9.10"
  }
 },
 "nbformat": 4,
 "nbformat_minor": 5
}
